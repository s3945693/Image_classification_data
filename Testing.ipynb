{
 "cells": [
  {
   "cell_type": "markdown",
   "id": "dbc86d6a",
   "metadata": {},
   "source": [
    "CRCHistoPhenotypes Dataset"
   ]
  },
  {
   "cell_type": "code",
   "execution_count": 4,
   "id": "bfec559c",
   "metadata": {},
   "outputs": [],
   "source": [
    "import pandas as pd\n",
    "import numpy as np\n",
    "import matplotlib.pyplot as plt\n",
    "import seaborn as sns\n",
    "# import tensorflow as tf\n",
    "import plotly.graph_objects as go\n",
    "url = \"./data_labels_mainData.csv\"\n",
    "lm = pd.read_csv(url, header=0, sep=\",\")\n",
    "url = \"./data_labels_extraData.csv\"\n",
    "le = pd.read_csv(url, header = 0, sep = \",\")"
   ]
  },
  {
   "cell_type": "code",
   "execution_count": null,
   "id": "dc9cc05d",
   "metadata": {},
   "outputs": [],
   "source": [
    "# import tensorflow_datasets as tfds\n",
    "\n",
    "from tensorflow.keras import layers"
   ]
  },
  {
   "cell_type": "code",
   "execution_count": null,
   "id": "9811910a",
   "metadata": {},
   "outputs": [],
   "source": [
    "lm.head()"
   ]
  },
  {
   "cell_type": "code",
   "execution_count": null,
   "id": "961f2530",
   "metadata": {},
   "outputs": [],
   "source": [
    "lm[\"cellTypeName\"].unique()"
   ]
  },
  {
   "cell_type": "code",
   "execution_count": 5,
   "id": "d829b489",
   "metadata": {},
   "outputs": [
    {
     "data": {
      "text/plain": [
       "cellTypeName\n",
       "epithelial      4079\n",
       "fibroblast      1888\n",
       "inflammatory    2543\n",
       "others          1386\n",
       "Name: cellType, dtype: int64"
      ]
     },
     "execution_count": 5,
     "metadata": {},
     "output_type": "execute_result"
    }
   ],
   "source": [
    "lm.groupby(\"cellTypeName\")[\"cellType\"].count()"
   ]
  },
  {
   "cell_type": "code",
   "execution_count": 6,
   "id": "224c053d",
   "metadata": {},
   "outputs": [
    {
     "data": {
      "text/plain": [
       "isCancerous\n",
       "0    5817\n",
       "1    4079\n",
       "Name: isCancerous, dtype: int64"
      ]
     },
     "execution_count": 6,
     "metadata": {},
     "output_type": "execute_result"
    }
   ],
   "source": [
    "lm.groupby(\"isCancerous\")[\"isCancerous\"].count()"
   ]
  },
  {
   "cell_type": "markdown",
   "id": "5a334ea3",
   "metadata": {},
   "source": [
    "There is an imbalance in classes which creates a bias towards classes with more data as ML method assumes equal distribution of data. We can use data augmentation to make it more equal. Also affects performance metric as impact of incorrect predictions on smaller classes will be overshadowed by main classes. This is upsampling.\n",
    "This will improve overfitting, resolve class imbalance.\n",
    "https://blog.paperspace.com/data-augmentation-a-class-imbalance-mitigative-measure/\n",
    "\n",
    "CONSIDER:\n",
    "- is it ok to use augmented data in test/validation sets?\n",
    "Nah, not traditionally.\n",
    "\n",
    "We should only use random geometric transformations:\n",
    "- rotations\n",
    "- flipping\n",
    "- blurring\n",
    "- noise\n",
    "I include blurring and noise to reflect mistakes that could happen in real cell imaging scenarios. I am avoiding techniques that involve losing information in the image because the images are already small enough. I also do not want to augment the images so much that they do not represent realistic data examples anymore. Therefore, these simple augmentations should be sufficient."
   ]
  },
  {
   "cell_type": "code",
   "execution_count": 10,
   "id": "b149dead",
   "metadata": {},
   "outputs": [
    {
     "name": "stdout",
     "output_type": "stream",
     "text": [
      "Train data : 7422, Val Data: 2474, Test Data: 1980\n"
     ]
    }
   ],
   "source": [
    "from sklearn.model_selection import train_test_split\n",
    "\n",
    "\n",
    "train_data, test_data = train_test_split(lm, test_size=0.2, random_state=42)\n",
    "train_data, val_data = train_test_split(lm, test_size=0.25, random_state=42)\n",
    "\n",
    "print(\"Train data : {}, Val Data: {}, Test Data: {}\".format(train_data.shape[0], val_data.shape[0], test_data.shape[0]))"
   ]
  },
  {
   "cell_type": "code",
   "execution_count": 11,
   "id": "60375ec7",
   "metadata": {},
   "outputs": [],
   "source": [
    "train_data['cellType'] = train_data['cellType'].astype('str')\n",
    "val_data['cellType'] = val_data['cellType'].astype('str')"
   ]
  },
  {
   "cell_type": "code",
   "execution_count": 89,
   "id": "ad15a452",
   "metadata": {},
   "outputs": [
    {
     "name": "stdout",
     "output_type": "stream",
     "text": [
      "Found 7422 validated image filenames belonging to 4 classes.\n",
      "Found 2474 validated image filenames belonging to 4 classes.\n"
     ]
    }
   ],
   "source": [
    "from tensorflow.keras.preprocessing.image import ImageDataGenerator\n",
    "\n",
    "train_datagen = ImageDataGenerator(\n",
    "        rotation_range=360, # rotation\n",
    "        horizontal_flip=True, # horizontal flip\n",
    "        vertical_flip=True, # horizontal flip\n",
    "#         brightness_range=[0.2,1.2]  # brightness\n",
    "        rescale=1./255, data_format='channels_last'\n",
    ")\n",
    "\n",
    "val_datagen = ImageDataGenerator(\n",
    "    rotation_range=360, # rotation\n",
    "#         width_shift_range=0.2, # horizontal shift\n",
    "#         height_shift_range=0.2, # vertical shift\n",
    "#         zoom_range=0.2, # zoom\n",
    "        horizontal_flip=True, # horizontal flip\n",
    "#         brightness_range=[0.2,1.2]  # brightness\n",
    "        rescale=1./255, data_format='channels_last'\n",
    ")\n",
    "\n",
    "batch_size = 27\n",
    "\n",
    "train_generator = train_datagen.flow_from_dataframe(\n",
    "        dataframe=train_data,\n",
    "        directory='./patch_images/',\n",
    "        x_col=\"ImageName\",\n",
    "        y_col=\"cellType\",\n",
    "        target_size=(27, 27),\n",
    "        color_mode=\"grayscale\",\n",
    "        batch_size=batch_size,\n",
    "        class_mode='categorical')\n",
    "\n",
    "validation_generator = val_datagen.flow_from_dataframe(\n",
    "        dataframe=val_data,\n",
    "        directory='./patch_images/',\n",
    "        x_col=\"ImageName\",\n",
    "        y_col=\"cellType\",\n",
    "        target_size=(27, 27),\n",
    "        color_mode=\"grayscale\",\n",
    "        batch_size=batch_size,\n",
    "        class_mode='categorical')"
   ]
  },
  {
   "cell_type": "code",
   "execution_count": 91,
   "id": "f5dd7410",
   "metadata": {},
   "outputs": [
    {
     "data": {
      "text/plain": [
       "<matplotlib.image.AxesImage at 0x26b922028c0>"
      ]
     },
     "execution_count": 91,
     "metadata": {},
     "output_type": "execute_result"
    },
    {
     "data": {
      "image/png": "[encoded data removed]",
      "text/plain": [
       "<Figure size 640x480 with 1 Axes>"
      ]
     },
     "metadata": {},
     "output_type": "display_data"
    }
   ],
   "source": [
    "from tensorflow.keras import layers\n",
    "\n",
    "\n",
    "IMG_SIZE = 32\n",
    "# image = train_generator[0][0][50]\n",
    "# batch, images, img_num\n",
    "# for i in range(27):\n",
    "#     image = train_generator[0][0][i]\n",
    "#     plt.imshow(image)\n",
    "image = train_generator[0][0][0]\n",
    "plt.imshow(image, cmap='gray')\n",
    "\n",
    "# resize_and_rescale = tf.keras.Sequential([\n",
    "# #   layers.Resizing(IMG_SIZE, IMG_SIZE),\n",
    "# #   layers.Rescaling(1./255)\n",
    "#     layers.RandomFlip(\"horizontal_and_vertical\")\n",
    "# ])\n",
    "\n",
    "# result = resize_and_rescale(image)\n",
    "# _ = plt.imshow(result)"
   ]
  },
  {
   "cell_type": "code",
   "execution_count": 65,
   "id": "2ef58ac2",
   "metadata": {},
   "outputs": [
    {
     "data": {
      "text/plain": [
       "keras.preprocessing.image.DataFrameIterator"
      ]
     },
     "execution_count": 65,
     "metadata": {},
     "output_type": "execute_result"
    }
   ],
   "source": [
    "type(train_generator)"
   ]
  },
  {
   "cell_type": "code",
   "execution_count": 63,
   "id": "3c773435",
   "metadata": {},
   "outputs": [],
   "source": [
    "from tensorflow.keras.utils import save_img\n",
    "\n",
    "save_img(\"./wow.png\", result)"
   ]
  },
  {
   "cell_type": "markdown",
   "id": "63019189",
   "metadata": {},
   "source": [
    "Massive waste of time and effort\n",
    "https://www.analyticsvidhya.com/blog/2020/08/image-augmentation-on-the-fly-using-keras-imagedatagenerator/ "
   ]
  },
  {
   "cell_type": "code",
   "execution_count": null,
   "id": "6e1a213a",
   "metadata": {},
   "outputs": [],
   "source": [
    "# # make everything GRAYSCALE\n",
    "\n",
    "# train_generator = test_datagen.flow_from_dataframe(\n",
    "#         dataframe=train_data,\n",
    "#         directory='./patch_images/',\n",
    "#         x_col=\"ImageName\",\n",
    "#         y_col=\"cellType\",\n",
    "#         target_size=(27, 27),\n",
    "#         color_mode=\"grayscale\",\n",
    "#         batch_size=batch_size,\n",
    "#         class_mode='categorical'\n",
    "# )\n",
    "\n",
    "# validation_generator = test_datagen.flow_from_dataframe(\n",
    "#         dataframe=val_data,\n",
    "#         directory='./patch_images/',\n",
    "#         x_col=\"ImageName\",\n",
    "#         y_col=\"cellType\",\n",
    "#         target_size=(27, 27),\n",
    "#         color_mode=\"grayscale\",\n",
    "#         batch_size=batch_size,\n",
    "#         class_mode='categorical'\n",
    "# )\n",
    "\n",
    "# test_generator = test_datagen.flow_from_dataframe(\n",
    "#         dataframe=test_data,\n",
    "#         directory='./patch_images/',\n",
    "#         x_col=\"ImageName\",\n",
    "#         y_col=\"cellType\",\n",
    "#         target_size=(27, 27),\n",
    "#         color_mode=\"grayscale\",\n",
    "#         batch_size=batch_size,\n",
    "#         class_mode='categorical'\n",
    "# )"
   ]
  },
  {
   "cell_type": "code",
   "execution_count": null,
   "id": "8b9d2f2d",
   "metadata": {},
   "outputs": [],
   "source": [
    "# DATA AUGMENTATION\n",
    "# comment out if you do not want to use this\n",
    "\n",
    "# train_datagen_aug = ImageDataGenerator(\n",
    "# #         rotation_range=360, # rotation\n",
    "#         horizontal_flip=True, # horizontal flip\n",
    "# #         vertical_flip=True, # horizontal flip\n",
    "#         rescale=1./255, data_format='channels_last'\n",
    "# )\n",
    "\n",
    "# train_generator = train_datagen_aug.flow_from_dataframe(\n",
    "#         dataframe=train_data,\n",
    "#         directory='./patch_images/',\n",
    "#         x_col=\"ImageName\",\n",
    "#         y_col=\"cellType\",\n",
    "#         target_size=(27, 27),\n",
    "#         batch_size=batch_size,\n",
    "#         class_mode='categorical'\n",
    ")"
   ]
  }
 ],
 "metadata": {
  "kernelspec": {
   "display_name": "Python 3 (ipykernel)",
   "language": "python",
   "name": "python3"
  },
  "language_info": {
   "codemirror_mode": {
    "name": "ipython",
    "version": 3
   },
   "file_extension": ".py",
   "mimetype": "text/x-python",
   "name": "python",
   "nbconvert_exporter": "python",
   "pygments_lexer": "ipython3",
   "version": "3.10.6"
  }
 },
 "nbformat": 4,
 "nbformat_minor": 5
}
